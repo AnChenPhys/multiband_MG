{
 "cells": [
  {
   "cell_type": "code",
   "execution_count": 1,
   "metadata": {},
   "outputs": [],
   "source": [
    "### Global \n",
    "import time as tm\n",
    "import numpy as np\n",
    "\n",
    "import matplotlib\n",
    "matplotlib.rcParams['text.usetex'] = True\n",
    "\n",
    "from scipy.special import comb\n",
    "from scipy.misc import derivative\n",
    "from scipy import integrate, interpolate\n",
    "\n",
    "import matplotlib.pyplot as plt\n",
    "import matplotlib.gridspec as gridspec\n",
    "from matplotlib.patches import Ellipse\n",
    "from chainconsumer import ChainConsumer\n",
    "\n",
    "### Local \n",
    "import utilities_simple_mauro as utilities\n",
    "\n",
    "import importlib as imp\n",
    "imp.reload(utilities);"
   ]
  },
  {
   "cell_type": "code",
   "execution_count": 2,
   "metadata": {},
   "outputs": [],
   "source": [
    "### Define all the constants \n",
    "c      = 299792.458           #km/s\n",
    "GN     = 6.674e-11     #m^3/kg/s^2\n",
    "Msolar = 1.989e30  # kg\n",
    "Mpc    = 3.086e19     # km\n",
    "\n",
    "cosmo_params = { 'OmegaM' : 0.2999,\n",
    "                 'OmegaDE': 0.7,\n",
    "                 'OmegaR' : 1.e-4,\n",
    "                 'h'      : 0.7 }\n",
    "\n",
    "#GW150914 parameters\n",
    "m1   = 36       #solarmass\n",
    "m2   = 29\n",
    "\n",
    "Dl   = 410      #Mpc\n",
    "zem  = 0.09\n",
    "\n",
    "time = 2*365*24*3600    # time before merger in sec\n",
    "tc   = 0\n",
    "psic = 0\n",
    "\n",
    "# Set parameters for step\n",
    "fstar = 0.8\n",
    "c0    = 0.9\n",
    "w1    = 0.5\n",
    "\n",
    "# Points in frequency \n",
    "f_points = 300"
   ]
  },
  {
   "cell_type": "code",
   "execution_count": 3,
   "metadata": {},
   "outputs": [],
   "source": [
    "# Read in and interpolate LIGO and LISA PSDs.\n",
    "ligo_asd    = np.genfromtxt('../data/lalsimulation_lib_LIGO-T1800545-v1-aLIGO_175Mpc.txt')\n",
    "LISA_strain = np.loadtxt('../data/LISA_strain.txt')\n",
    "\n",
    "ligo_interp = interpolate.interp1d(ligo_asd[:,0], ligo_asd[:,1])\n",
    "lisa_interp = interpolate.interp1d(LISA_strain[:,0], LISA_strain[:,3])"
   ]
  },
  {
   "cell_type": "code",
   "execution_count": 4,
   "metadata": {},
   "outputs": [],
   "source": [
    "# Get mass quantities\n",
    "m_eff  = m1*m2/(m1+m2)\n",
    "Ms     = m_eff**(3./5) * (m1+m2)**(2./5)     # source chirp mass in solarmass\n",
    "eta    = ((m1+m2)/Ms)**(-5./3)\n",
    "\n",
    "Dl_s   = Dl*Mpc/c        # Dl in sec\n",
    "\n",
    "Ms_s   = Ms * Msolar * GN / (c*1.e3)**3.       # source chirp mass in sec\n",
    "Mtot_s = (m1+m2) * Msolar * GN / (c*1.e3)**3.\n",
    "\n",
    "# Get frequency ranges for inspiral and plots\n",
    "f_start = (5*Ms_s/256/time)**(3./8) / np.pi/Ms_s      # starting frequency at the time before merger\n",
    "f_cut   = utilities.get_freq(Mtot_s, eta, \"cut\")       # End of IMR template\n",
    "fc      = utilities.inspiral_fc(Mtot_s)\n",
    "farr    = np.logspace(np.log10(f_start), np.log10(fc), num=f_points)  #inspiral range only\n",
    "f_plot  = np.logspace(np.log10(f_start), np.log10(f_cut), num=f_points)     # full IMR waveform\n",
    "\n",
    "Dl_arr  = np.array([Dl_s]*len(farr))"
   ]
  },
  {
   "cell_type": "code",
   "execution_count": 5,
   "metadata": {},
   "outputs": [
    {
     "name": "stdout",
     "output_type": "stream",
     "text": [
      "eta 0.24710059171597634\n",
      "fc 67.63181124855085\n"
     ]
    }
   ],
   "source": [
    "# Waveforms for inspiral and IMR, in GR\n",
    "pars_labels = [r'$\\log(Mc)$', r'$\\log(\\eta)$', r'$\\log(z)$', r'$t_c$', r'$\\psi_c$', r'$c$']\n",
    "pars_GR     = [np.log(Ms), np.log(eta), np.log(zem), tc, psic, 0, 0]\n",
    "\n",
    "h_GR        = utilities.waveform(farr, pars_GR, cosmo_params)\n",
    "h_plot      = utilities.waveform(f_plot, pars_GR, cosmo_params)\n",
    "\n",
    "print('eta',eta)\n",
    "print('fc',fc)"
   ]
  },
  {
   "cell_type": "code",
   "execution_count": 6,
   "metadata": {},
   "outputs": [],
   "source": [
    "# Get waveform segments in LISA and LIGO ranges only.\n",
    "farr_ligo = np.logspace(np.log10(ligo_asd[0,0]),np.log10(fc),num=f_points)\n",
    "farr_lisa = np.logspace(np.log10(f_start),np.log10(LISA_strain[-1,0]),num=f_points)\n",
    "\n",
    "ligo_psd = ligo_interp(farr_ligo)**2\n",
    "lisa_psd = lisa_interp(farr_lisa)\n",
    "\n",
    "h_GR_ligo = utilities.waveform(farr_ligo, pars_GR, cosmo_params)\n",
    "h_GR_lisa = utilities.waveform(farr_lisa, pars_GR, cosmo_params)\n"
   ]
  },
  {
   "cell_type": "code",
   "execution_count": 7,
   "metadata": {},
   "outputs": [
    {
     "data": {
      "image/png": "[encoded data removed]",
      "text/plain": [
       "<Figure size 720x432 with 1 Axes>"
      ]
     },
     "metadata": {
      "needs_background": "light"
     },
     "output_type": "display_data"
    }
   ],
   "source": [
    "# Plot full IMR GR signal\n",
    "plt.figure(figsize=(10,6))\n",
    "plt.loglog(ligo_asd[:,0],np.sqrt(ligo_asd[:,0])*ligo_asd[:,1],label='aLIGO design')\n",
    "plt.loglog(LISA_strain[:,0],np.sqrt(LISA_strain[:,0]*LISA_strain[:,3]),label='LISA')\n",
    "plt.loglog(f_plot, np.abs(f_plot*h_plot), color='k', label='GW150914')\n",
    "plt.xlabel('f [Hz]', fontsize=20)\n",
    "plt.ylabel('strain', fontsize=20)\n",
    "plt.xticks(fontsize=20)\n",
    "plt.yticks(fontsize=20)\n",
    "plt.legend(fontsize=15, loc=(1,0));"
   ]
  },
  {
   "cell_type": "code",
   "execution_count": 8,
   "metadata": {},
   "outputs": [
    {
     "name": "stdout",
     "output_type": "stream",
     "text": [
      "design LIGO SNR = 65.53226762131281\n",
      "LISA SNR = 3.4325136604113045\n"
     ]
    }
   ],
   "source": [
    "# SNR in LISA and LIGO\n",
    "SNR_ligo_sq = utilities.scalar_product(h_GR_ligo, h_GR_ligo, ligo_psd, farr_ligo)\n",
    "SNR_ligo = np.sqrt(SNR_ligo_sq)\n",
    "\n",
    "SNR_lisa_sq = utilities.scalar_product(h_GR_lisa, h_GR_lisa, lisa_psd, farr_lisa)\n",
    "SNR_lisa = np.sqrt(SNR_lisa_sq)\n",
    "\n",
    "print('design LIGO SNR =', SNR_ligo)\n",
    "print('LISA SNR =', SNR_lisa)"
   ]
  },
  {
   "cell_type": "markdown",
   "metadata": {},
   "source": [
    "# Start defining all the things for the derivatives"
   ]
  },
  {
   "cell_type": "code",
   "execution_count": 9,
   "metadata": {},
   "outputs": [],
   "source": [
    "def numerical_derivative(func, par, dx, conv=5e-2, factor=.5, order=5, verbose=False):\n",
    "    factor  = factor if factor < 1 else .5\n",
    "    ratio   = 1e8\n",
    "    r_best  = 1e8\n",
    "    dx_best = 0.\n",
    "    \n",
    "    while ratio > conv:\n",
    "        d1    = derivative(func, par, dx=dx/2, order=int(order))\n",
    "        d2    = derivative(func, par, dx=dx *2, order=int(order))\n",
    "        \n",
    "        ld1   = len(d1)\n",
    "        prod  = d1 *d2\n",
    "        \n",
    "        d1    = d1[prod != 0]\n",
    "        d2    = d2[prod != 0]\n",
    "        \n",
    "        r_vec = np.abs( (d1 -d2)/np.mean((d1, d2), axis=0) )\n",
    "        \n",
    "        if len(r_vec) < int(ld1/3):\n",
    "            ratio = 1e6\n",
    "        else:\n",
    "            ratio = np.mean(r_vec)\n",
    "        \n",
    "        if ratio < r_best:\n",
    "            dx_best = dx\n",
    "            r_best  = ratio\n",
    "        \n",
    "        dx *= factor  \n",
    "        \n",
    "        if dx < 1e-15:\n",
    "            #print(par, dx)\n",
    "            #raise ValueError('No convergence')\n",
    "            ratio = 1e-1 *conv\n",
    "    \n",
    "    print('Ratio best = %.2e for dx = %.2e' % (r_best, dx_best))\n",
    "    return derivative(func, par, dx=dx_best, order=int(order))"
   ]
  },
  {
   "cell_type": "code",
   "execution_count": 10,
   "metadata": {},
   "outputs": [
    {
     "name": "stdout",
     "output_type": "stream",
     "text": [
      "Ratio best = 4.09e-02 for dx = 1.95e-03\n",
      "(array([], dtype=int64),)\n"
     ]
    },
    {
     "data": {
      "image/png": "[encoded data removed]",
      "text/plain": [
       "<Figure size 432x288 with 1 Axes>"
      ]
     },
     "metadata": {
      "needs_background": "light"
     },
     "output_type": "display_data"
    }
   ],
   "source": [
    "# Just a test of my function to compute derivatives\n",
    "der_ord  = 5\n",
    "a_val    = 10\n",
    "b_val    = 6\n",
    "x        = np.linspace(-2 *np.pi, 2 * np.pi, 100)\n",
    "my_func  = lambda a : np.sin(a * x)**b_val\n",
    "\n",
    "analytic = b_val *x *np.cos(a_val *x) *np.sin(a_val * x)**(b_val -1)\n",
    "dsin     = numerical_derivative(my_func, a_val, 1, order=int(der_ord))\n",
    "\n",
    "plt.plot(x, dsin)\n",
    "plt.plot(x, analytic)\n",
    "\n",
    "test     = (dsin -analytic ) / dsin\n",
    "print( np.where(test[1:-1] > 5e-2 ) )"
   ]
  },
  {
   "cell_type": "code",
   "execution_count": 11,
   "metadata": {},
   "outputs": [],
   "source": [
    "def my_wf(farr, pars, psd, cosmo_params, which_wf='GR', width=0, dist_corr=True):\n",
    "    if which_wf=='GR':\n",
    "        waveform = utilities.waveform\n",
    "    elif which_wf=='EFT':\n",
    "        waveform = utilities.waveform_delta(cT_type='EFT').h_Delta_exact\n",
    "    elif which_wf=='step':\n",
    "        waveform = utilities.waveform_delta(cT_type='step', width=width).h_Delta_exact\n",
    "    \n",
    "    if dist_corr==False:\n",
    "        hf = waveform(farr, pars, cosmo_params, dist_corr=False)\n",
    "    else:      \n",
    "        hf = waveform(farr, pars, cosmo_params)\n",
    "    \n",
    "    return waveform, hf"
   ]
  },
  {
   "cell_type": "code",
   "execution_count": 12,
   "metadata": {},
   "outputs": [],
   "source": [
    "def f_to_der(index, val, function, *args, **kwargs):\n",
    "    pars        = np.array(args[1])\n",
    "    pars[index] = val\n",
    "    return function(args[0], pars, *args[2:], **kwargs)\n",
    "\n",
    "def get_one_derivative(ind, farr, pars, psd, cosmo_params, which_wf='GR', MG_flag=False, width=0, \n",
    "        dist_corr=True, order=3, factor=.5, verbose=False):\n",
    "    t0 = tm.perf_counter()\n",
    "    print('- Working on index', ind)\n",
    "    \n",
    "    waveform, hf = my_wf(farr, pars, psd, cosmo_params, which_wf=which_wf, width=width, dist_corr=dist_corr)\n",
    "    to_der       = lambda par_val : f_to_der(ind, par_val, waveform, farr, pars, cosmo_params) / hf \n",
    "    dx           = np.abs(.1 *pars[ind]) if pars[ind] != 0 else 1e-1\n",
    "        \n",
    "    if ind == 3:\n",
    "        # Analytical derivetives w.r.t. tc\n",
    "        my_der   = 2.j*np.pi*farr*waveform(farr, pars, cosmo_params)\n",
    "        \n",
    "    elif ind == 4:\n",
    "        # Analytical derivetives w.r.t. psic\n",
    "        my_der   = -1.j*waveform(farr, pars, cosmo_params)\n",
    "        \n",
    "    elif ind == 5:\n",
    "        if MG_flag:\n",
    "            my_der = numerical_derivative(to_der, pars[ind], dx=dx, order=order, \n",
    "                        factor=factor, verbose=verbose) * hf\n",
    "        else:\n",
    "            my_der = []\n",
    "        \n",
    "    else:\n",
    "        if ind == 0:\n",
    "            dx     = 1e-2\n",
    "        my_der     = numerical_derivative(to_der, pars[ind], dx=dx, order=order, \n",
    "                        factor=factor, verbose=verbose) *hf\n",
    "    \n",
    "    print('Derivative computed in %.2f seconds \\n' % (tm.perf_counter() -t0))\n",
    "    return np.array(my_der)"
   ]
  },
  {
   "cell_type": "code",
   "execution_count": 13,
   "metadata": {},
   "outputs": [],
   "source": [
    "def get_derivatives(farr, pars, psd, cosmo_params, which_wf='GR', MG_flag=False, width=0, dist_corr=True, \n",
    "        order=3, factor=.5, verbose=False):\n",
    "    \n",
    "    t0 = tm.perf_counter()\n",
    "    print('--- Here I start computing all the derivatives \\n')\n",
    "    derivatives = []\n",
    "    \n",
    "    for ind in range(0, len(pars) -1):\n",
    "        if ind < 5:\n",
    "            derivatives.append( get_one_derivative(ind, farr, pars, psd, cosmo_params, which_wf=which_wf, \n",
    "                    MG_flag=MG_flag, width=width, dist_corr=dist_corr, order=order, \n",
    "                    factor=factor, verbose=verbose) ) \n",
    "        elif MG_flag:\n",
    "            derivatives.append( get_one_derivative(ind, farr, pars, psd, cosmo_params, which_wf=which_wf, \n",
    "                    MG_flag=MG_flag, width=width, dist_corr=dist_corr, order=order, \n",
    "                    factor=factor, verbose=verbose) ) \n",
    "\n",
    "    print('All derivatives in %.2f seconds' % (tm.perf_counter() -t0))\n",
    "    return np.array(derivatives)"
   ]
  },
  {
   "cell_type": "code",
   "execution_count": 14,
   "metadata": {},
   "outputs": [
    {
     "name": "stdout",
     "output_type": "stream",
     "text": [
      "--- Here I start computing all the derivatives \n",
      "\n",
      "- Working on index 0\n",
      "Ratio best = 4.55e-03 for dx = 7.63e-08\n",
      "Derivative computed in 4.10 seconds \n",
      "\n",
      "- Working on index 1\n",
      "Ratio best = 8.59e-03 for dx = 5.46e-04\n",
      "Derivative computed in 2.27 seconds \n",
      "\n",
      "- Working on index 2\n",
      "Ratio best = 1.86e-03 for dx = 2.41e-01\n",
      "Derivative computed in 0.40 seconds \n",
      "\n",
      "- Working on index 3\n",
      "Derivative computed in 0.05 seconds \n",
      "\n",
      "- Working on index 4\n",
      "Derivative computed in 0.05 seconds \n",
      "\n",
      "All derivatives in 6.87 seconds\n"
     ]
    }
   ],
   "source": [
    "ders = get_derivatives(farr_lisa, pars_GR, lisa_psd, cosmo_params, which_wf='GR', dist_corr=True, \n",
    "        order=5, factor=.5, verbose=False)"
   ]
  },
  {
   "cell_type": "code",
   "execution_count": 15,
   "metadata": {},
   "outputs": [
    {
     "data": {
      "image/png": "[encoded data removed]",
      "text/plain": [
       "<Figure size 432x288 with 1 Axes>"
      ]
     },
     "metadata": {
      "needs_background": "light"
     },
     "output_type": "display_data"
    }
   ],
   "source": [
    "for i in range(0, len(ders)):\n",
    "    plt.loglog(farr_lisa, np.abs(ders[i]), label=pars_labels[i]);\n",
    "plt.legend(loc=3);"
   ]
  },
  {
   "cell_type": "code",
   "execution_count": 16,
   "metadata": {},
   "outputs": [],
   "source": [
    "c0        = .99\n",
    "pars_step = [np.log(Ms), np.log(eta), np.log(zem), tc, psic, c0, fstar]"
   ]
  },
  {
   "cell_type": "code",
   "execution_count": 17,
   "metadata": {},
   "outputs": [
    {
     "name": "stdout",
     "output_type": "stream",
     "text": [
      "- Working on index 1\n",
      "Ratio best = 4.72e-03 for dx = 3.40e-04\n",
      "Derivative computed in 1.67 seconds \n",
      "\n"
     ]
    }
   ],
   "source": [
    "dders = get_one_derivative(1, farr_lisa, pars_step, lisa_psd, cosmo_params, which_wf='step', \n",
    "            MG_flag=True, width=.01, dist_corr=False, order=5, factor=.3)"
   ]
  },
  {
   "cell_type": "code",
   "execution_count": 18,
   "metadata": {},
   "outputs": [
    {
     "data": {
      "image/png": "[encoded data removed]",
      "text/plain": [
       "<Figure size 432x288 with 1 Axes>"
      ]
     },
     "metadata": {
      "needs_background": "light"
     },
     "output_type": "display_data"
    }
   ],
   "source": [
    "mwf, my_hf = my_wf(farr_lisa, pars_step, lisa_psd, cosmo_params, which_wf='step', width=.9, dist_corr=True)\n",
    "\n",
    "plt.loglog(farr_lisa, np.abs(my_hf), label='Func')\n",
    "plt.loglog(farr_lisa, np.abs(dders), label=pars_labels[0])\n",
    "#plt.ylim(1e-21, 1e-17)\n",
    "plt.legend(loc=1);"
   ]
  },
  {
   "cell_type": "code",
   "execution_count": 19,
   "metadata": {
    "scrolled": true
   },
   "outputs": [
    {
     "name": "stdout",
     "output_type": "stream",
     "text": [
      "--- Here I start computing all the derivatives \n",
      "\n",
      "- Working on index 0\n",
      "Ratio best = 1.26e-02 for dx = 1.00e-07\n",
      "Derivative computed in 1.77 seconds \n",
      "\n",
      "- Working on index 1\n",
      "Ratio best = 4.02e-03 for dx = 1.40e-04\n",
      "Derivative computed in 1.12 seconds \n",
      "\n",
      "- Working on index 2\n",
      "Ratio best = 1.86e-03 for dx = 2.41e-01\n",
      "Derivative computed in 0.40 seconds \n",
      "\n",
      "- Working on index 3\n",
      "Derivative computed in 0.05 seconds \n",
      "\n",
      "- Working on index 4\n",
      "Derivative computed in 0.05 seconds \n",
      "\n",
      "- Working on index 5\n",
      "Ratio best = 7.75e-03 for dx = 9.90e-02\n",
      "Derivative computed in 0.39 seconds \n",
      "\n",
      "All derivatives in 3.78 seconds\n"
     ]
    }
   ],
   "source": [
    "dders = get_derivatives(farr_lisa, pars_step, lisa_psd, cosmo_params, which_wf='step', \n",
    "            MG_flag=True, width=w1, dist_corr=False, order=5, factor=.1)"
   ]
  },
  {
   "cell_type": "code",
   "execution_count": 20,
   "metadata": {},
   "outputs": [
    {
     "data": {
      "image/png": "[encoded data removed]",
      "text/plain": [
       "<Figure size 432x288 with 1 Axes>"
      ]
     },
     "metadata": {
      "needs_background": "light"
     },
     "output_type": "display_data"
    }
   ],
   "source": [
    "for i in range(0, len(dders)):\n",
    "    plt.loglog(farr_lisa, np.abs(dders[i]), label=pars_labels[i]);\n",
    "#plt.ylim(1e-22, 1e-15)\n",
    "plt.legend(loc=3);"
   ]
  },
  {
   "cell_type": "code",
   "execution_count": 21,
   "metadata": {},
   "outputs": [],
   "source": [
    "# Define function to return covariance matrix for chosen waveform.\n",
    "\n",
    "def Fisher_matrix(farr, pars, psd, cosmo_params, which_wf='GR', MG_flag=False, width=0, dist_corr=True, \n",
    "        order=3, factor=.5, verbose=False, derivatives=None):\n",
    "    \n",
    "    t0 = tm.perf_counter()\n",
    "    print('--- Here I start computing fishers \\n')\n",
    "    \n",
    "    if derivatives is None:\n",
    "        print('Will recompute derivatives')\n",
    "        derivatives = get_derivatives(farr, pars, psd, cosmo_params, which_wf=which_wf, \n",
    "                        MG_flag=MG_flag, width=width, dist_corr=dist_corr, order=order, \n",
    "                        factor=factor, verbose=verbose)\n",
    "    \n",
    "    else:\n",
    "        print('Will use derivatives as passed to this function')\n",
    "        \n",
    "    Fisher_matrix = np.zeros((len(derivatives),len(derivatives)))\n",
    "\n",
    "    for i in range(0, len(derivatives)):\n",
    "        for j in range(0,i +1):\n",
    "            Fisher_matrix[i,j] = utilities.scalar_product(derivatives[i], derivatives[j], psd, farr)\n",
    "            Fisher_matrix[j,i] = Fisher_matrix[i,j]\n",
    "    \n",
    "    connum = np.linalg.cond(Fisher_matrix)\n",
    "    print('Condition number (div by 1e15)',connum/1.e15)\n",
    "    print('This took %.2f seconds \\n' % (tm.perf_counter() -t0) )\n",
    "    \n",
    "    return Fisher_matrix"
   ]
  },
  {
   "cell_type": "code",
   "execution_count": 22,
   "metadata": {},
   "outputs": [
    {
     "name": "stdout",
     "output_type": "stream",
     "text": [
      "--- Here I start computing fishers \n",
      "\n",
      "Will use derivatives as passed to this function\n",
      "Condition number (div by 1e15) 145617.85790433304\n",
      "This took 0.00 seconds \n",
      "\n"
     ]
    }
   ],
   "source": [
    "Fisher = Fisher_matrix(farr_lisa, pars_step, lisa_psd, cosmo_params, derivatives=dders)"
   ]
  },
  {
   "cell_type": "markdown",
   "metadata": {},
   "source": [
    "# GR Constraints"
   ]
  },
  {
   "cell_type": "code",
   "execution_count": null,
   "metadata": {},
   "outputs": [],
   "source": [
    "ders_ligo, fisher_ligo = Fisher_det(farr_ligo, pars_GR, ligo_psd, cosmo_params, which_wf='GR')\n",
    "cov_matrix_ligo = np.linalg.inv(fisher_ligo)\n",
    "pconstraints_ligo = np.sqrt(np.diag(cov_matrix_ligo))\n",
    "\n",
    "print('LIGO GR constraints')\n",
    "print(pconstraints_ligo)"
   ]
  },
  {
   "cell_type": "code",
   "execution_count": null,
   "metadata": {},
   "outputs": [],
   "source": [
    "fisher_ligo"
   ]
  },
  {
   "cell_type": "code",
   "execution_count": null,
   "metadata": {},
   "outputs": [],
   "source": [
    "ders_lisa, fisher_lisa = Fisher_det(farr_lisa, pars_GR, lisa_psd, cosmo_params, which_wf='GR') \n",
    "cov_matrix_lisa = np.linalg.inv(fisher_lisa)\n",
    "pconstraints_lisa = np.sqrt(np.diag(cov_matrix_lisa))\n",
    "\n",
    "print('LISA GR constraints')\n",
    "print(pconstraints_lisa)"
   ]
  },
  {
   "cell_type": "code",
   "execution_count": null,
   "metadata": {},
   "outputs": [],
   "source": [
    "fisher_lisa"
   ]
  },
  {
   "cell_type": "code",
   "execution_count": null,
   "metadata": {},
   "outputs": [],
   "source": [
    "label_GR = [r'$\\Delta {\\cal M}_z/{\\cal M}_z$', r'$\\Delta \\eta/\\eta$', r'$\\Delta z/z$',r'$t_c$',r'$\\Psi_c$']\n",
    "fid_vals_GR = [0,0,0,0,0]\n",
    "\n",
    "data_ligo = np.random.multivariate_normal(fid_vals_GR, cov_matrix_ligo, size=10000)\n",
    "data_lisa = np.random.multivariate_normal(fid_vals_GR, cov_matrix_lisa, size=10000)"
   ]
  },
  {
   "cell_type": "code",
   "execution_count": null,
   "metadata": {},
   "outputs": [],
   "source": [
    "cc = ChainConsumer()\n",
    "cc.add_chain(data_ligo, bins=30, smooth=True, parameters=label_GR, name='ligo');\n",
    "cc.add_chain(data_lisa, bins=30, smooth=True, parameters=label_GR,name='lisa');\n",
    "cc.plotter.plot();"
   ]
  },
  {
   "cell_type": "markdown",
   "metadata": {},
   "source": [
    "# Step function constraints"
   ]
  },
  {
   "cell_type": "code",
   "execution_count": null,
   "metadata": {},
   "outputs": [],
   "source": [
    "# Set parameters for step\n",
    "fstar = 0.8\n",
    "c0 = 0.9\n",
    "w1 = 0.5"
   ]
  },
  {
   "cell_type": "code",
   "execution_count": null,
   "metadata": {},
   "outputs": [],
   "source": [
    "# Evaluate and plot Delta\n",
    "cT_step_fo_w1 = utilities.cT_step(farr, fstar, c0, w1)\n",
    "cT_step_fs_w1 = utilities.cT_step(farr*(1+zem), fstar, c0, w1)\n",
    "Delta_step_w1 = 1-cT_step_fo_w1/cT_step_fs_w1"
   ]
  },
  {
   "cell_type": "code",
   "execution_count": null,
   "metadata": {},
   "outputs": [],
   "source": [
    "plt.semilogx(farr, Delta_step_w1)\n",
    "plt.xlabel('f [Hz]')\n",
    "plt.ylabel(r'$\\Delta$')"
   ]
  },
  {
   "cell_type": "code",
   "execution_count": null,
   "metadata": {},
   "outputs": [],
   "source": [
    "# Set parameters for runs and evaluate\n",
    "pars_step = [np.log(Ms), np.log(eta), np.log(zem), tc, psic, c0, fstar]\n",
    "pars_step_fid = [np.log(Ms), np.log(eta), np.log(zem), tc, psic, 1., fstar]\n",
    "\n",
    "h_Delta_step_w1_ligo = utilities.waveform_delta(cT_type='step', width=w1).h_Delta_exact(farr_ligo, pars_step, cosmo_params)\n",
    "h_Delta_step_w1_fid_ligo = utilities.waveform_delta(cT_type='step', width=w1).h_Delta_exact(farr_ligo, pars_step_fid, cosmo_params)\n",
    "\n",
    "h_Delta_step_w1 = utilities.waveform_delta(cT_type='step', width=w1).h_Delta_exact(farr_lisa, pars_step, cosmo_params)\n",
    "h_Delta_step_w1_fid = utilities.waveform_delta(cT_type='step', width=w1).h_Delta_exact(farr_lisa, pars_step_fid, cosmo_params)\n",
    "h_Delta_step_w1_fid_nodist = utilities.waveform_delta(cT_type='step', width=w1).h_Delta_exact(farr_lisa, pars_step_fid, cosmo_params,dist_corr=False)\n",
    "\n",
    "# For plotting only\n",
    "h_Delta_step_w1_plot = utilities.waveform_delta(cT_type='step', width=w1).h_Delta_exact(farr, pars_step, cosmo_params)"
   ]
  },
  {
   "cell_type": "code",
   "execution_count": null,
   "metadata": {},
   "outputs": [],
   "source": [
    "plt.figure(figsize=(10,6))\n",
    "plt.loglog(ligo_asd[:,0],np.sqrt(ligo_asd[:,0])*ligo_asd[:,1],label='aLIGO design')\n",
    "plt.loglog(LISA_strain[:,0],np.sqrt(LISA_strain[:,0]*LISA_strain[:,3]),label='LISA')\n",
    "plt.loglog(farr, np.abs(farr*h_Delta_step_w1_plot), color='k', label='GW150914 step')\n",
    "plt.loglog(farr, np.abs(farr*h_GR), color='k', label='GW150914 GR', linestyle='--')\n",
    "plt.xlabel('f [Hz]', fontsize=20)\n",
    "plt.ylabel('strain', fontsize=20)\n",
    "plt.xticks(fontsize=20)\n",
    "plt.yticks(fontsize=20)\n",
    "plt.legend(fontsize=15);\n",
    "# plt.savefig('../plots/amp_psd_step.pdf')"
   ]
  },
  {
   "cell_type": "code",
   "execution_count": null,
   "metadata": {},
   "outputs": [],
   "source": [
    "#mask_ligo = (farr>ligo_asd[0,0]) & (farr<=ligo_asd[-1,0])\n",
    "#mask_lisa = (farr>LISA_strain[0,0]) & (farr<=LISA_strain[-1,0])\n",
    "\n",
    "#ligo_psd = ligo_interp(farr[mask_ligo])**2\n",
    "#lisa_psd = lisa_interp(farr[mask_lisa])"
   ]
  },
  {
   "cell_type": "code",
   "execution_count": null,
   "metadata": {},
   "outputs": [],
   "source": [
    "# SNR for fiducial and non-fiducial models\n",
    "SNR_ligo_sq = utilities.scalar_product(h_Delta_step_w1_ligo, h_Delta_step_w1_ligo, ligo_psd, farr_ligo)\n",
    "SNR_ligo_sq_fid = utilities.scalar_product(h_Delta_step_w1_fid_ligo, h_Delta_step_w1_fid_ligo, ligo_psd, farr_ligo)\n",
    "SNR_ligo_step = np.sqrt(SNR_ligo_sq)\n",
    "SNR_ligo_step_fid = np.sqrt(SNR_ligo_sq_fid)\n",
    "\n",
    "SNR_lisa_sq = utilities.scalar_product(h_Delta_step_w1, h_Delta_step_w1, lisa_psd, farr_lisa)\n",
    "SNR_lisa_sq_fid = utilities.scalar_product(h_Delta_step_w1_fid, h_Delta_step_w1_fid, lisa_psd, farr_lisa)\n",
    "SNR_lisa_step = np.sqrt(SNR_lisa_sq)\n",
    "SNR_lisa_step_fid = np.sqrt(SNR_lisa_sq_fid)\n",
    "\n",
    "print('LIGO SNR, mod and fiducial')\n",
    "print(SNR_ligo_step,SNR_ligo_step_fid)\n",
    "print('LISA SNR, mod and fiducial')\n",
    "print(SNR_lisa_step,SNR_lisa_step_fid)"
   ]
  },
  {
   "cell_type": "code",
   "execution_count": null,
   "metadata": {},
   "outputs": [],
   "source": [
    "# Constraints for fiducial and non-fiducial models\n",
    "ders_lisa_step, fisher_lisa_step = Fisher_det(farr_lisa, pars_step, lisa_psd, cosmo_params, which_wf='step', MG_flag=True, width=w1, dist_corr=False)\n",
    "cov_matrix_lisa_step = np.linalg.inv(fisher_lisa_step)\n",
    "\n",
    "ders_lisa_step_distcorr, fisher_lisa_step_distcorr = Fisher_det(farr_lisa, pars_step, lisa_psd, cosmo_params, which_wf='step', MG_flag=True, width=w1, dist_corr=True)\n",
    "cov_matrix_lisa_step_distcorr = np.linalg.inv(fisher_lisa_step_distcorr)\n",
    "\n",
    "ders_lisa_step_fid, fisher_lisa_step_fid = Fisher_det(farr_lisa, pars_step_fid, lisa_psd, cosmo_params, which_wf='step', MG_flag=True, width=w1, dist_corr=True)\n",
    "cov_matrix_lisa_step_fid = np.linalg.inv(fisher_lisa_step_fid)\n",
    "\n",
    "ders_lisa_step_fid_distcorr, fisher_lisa_step_fid_distcorr = Fisher_det(farr_lisa, pars_step_fid, lisa_psd, cosmo_params, which_wf='step', MG_flag=True, width=w1, dist_corr=False)\n",
    "cov_matrix_lisa_step_fid_distcorr = np.linalg.inv(fisher_lisa_step_fid_distcorr)\n",
    "\n",
    "pconstraints_lisa_step = np.sqrt(np.diag(cov_matrix_lisa_step))\n",
    "pconstraints_lisa_step_fid = np.sqrt(np.diag(cov_matrix_lisa_step_fid))\n",
    "pconstraints_lisa_step_distcorr = np.sqrt(np.diag(cov_matrix_lisa_step_distcorr))\n",
    "pconstraints_lisa_step_fid_distcorr = np.sqrt(np.diag(cov_matrix_lisa_step_fid_distcorr))\n",
    "\n",
    "print('LISA step function')\n",
    "print('mod')\n",
    "print(pconstraints_lisa_step)\n",
    "print('mod with distcorr')\n",
    "print(pconstraints_lisa_step_distcorr)\n",
    "print('fiducial')\n",
    "print(pconstraints_lisa_step_fid)\n",
    "print('fiducial with dist corr')\n",
    "print(pconstraints_lisa_step_fid_distcorr)\n"
   ]
  },
  {
   "cell_type": "code",
   "execution_count": null,
   "metadata": {},
   "outputs": [],
   "source": [
    "# plot derivatives\n",
    "plt.figure()\n",
    "plt.title('LISA without dist_corr')\n",
    "plt.loglog(farr_lisa, np.abs(ders_lisa_step[0]),label='lnM')\n",
    "plt.loglog(farr_lisa, np.abs(ders_lisa_step[1]),label='lneta')\n",
    "plt.loglog(farr_lisa, np.abs(ders_lisa_step[2]),label='lnz')\n",
    "plt.loglog(farr_lisa, np.abs(ders_lisa_step[3]),label='tc')\n",
    "plt.loglog(farr_lisa, np.abs(ders_lisa_step[4]),label='psic')\n",
    "plt.loglog(farr_lisa, np.abs(ders_lisa_step[5]),label='c0')\n",
    "plt.xlabel('f')\n",
    "plt.ylabel('derivatives')\n",
    "plt.legend()\n"
   ]
  },
  {
   "cell_type": "code",
   "execution_count": null,
   "metadata": {},
   "outputs": [],
   "source": [
    "# plot derivatives\n",
    "plt.figure()\n",
    "plt.title('LISA with dist_corr')\n",
    "plt.loglog(farr_lisa, np.abs(ders_lisa_step_distcorr[0]),label='lnM')\n",
    "plt.loglog(farr_lisa, np.abs(ders_lisa_step_distcorr[1]),label='lneta')\n",
    "plt.loglog(farr_lisa, np.abs(ders_lisa_step_distcorr[2]),label='lnz')\n",
    "plt.loglog(farr_lisa, np.abs(ders_lisa_step_distcorr[3]),label='tc')\n",
    "plt.loglog(farr_lisa, np.abs(ders_lisa_step_distcorr[4]),label='psic')\n",
    "plt.loglog(farr_lisa, np.abs(ders_lisa_step_distcorr[5]),label='c0')\n",
    "plt.xlabel('f')\n",
    "plt.ylabel('derivatives')\n",
    "plt.legend()"
   ]
  },
  {
   "cell_type": "code",
   "execution_count": null,
   "metadata": {},
   "outputs": [],
   "source": [
    "# plot derivatives\n",
    "plt.figure()\n",
    "plt.title('LISA with fiducial values without dist_corr')\n",
    "plt.loglog(farr_lisa, np.abs(ders_lisa_step_fid[0]),label='lnM')\n",
    "plt.loglog(farr_lisa, np.abs(ders_lisa_step_fid[1]),label='lneta')\n",
    "plt.loglog(farr_lisa, np.abs(ders_lisa_step_fid[2]),label='lnz')\n",
    "plt.loglog(farr_lisa, np.abs(ders_lisa_step_fid[3]),label='tc')\n",
    "plt.loglog(farr_lisa, np.abs(ders_lisa_step_fid[4]),label='psic')\n",
    "plt.loglog(farr_lisa, np.abs(ders_lisa_step_fid[5]),label='c0')\n",
    "plt.xlabel('f')\n",
    "plt.ylabel('derivatives')\n",
    "plt.legend()"
   ]
  },
  {
   "cell_type": "code",
   "execution_count": null,
   "metadata": {},
   "outputs": [],
   "source": [
    "# plot derivatives\n",
    "plt.figure()\n",
    "plt.title('LISA with fiducial values with dist_corr')\n",
    "plt.loglog(farr_lisa, np.abs(ders_lisa_step_fid_distcorr[0]),label='lnM')\n",
    "plt.loglog(farr_lisa, np.abs(ders_lisa_step_fid_distcorr[1]),label='lneta')\n",
    "plt.loglog(farr_lisa, np.abs(ders_lisa_step_fid_distcorr[2]),label='lnz')\n",
    "plt.loglog(farr_lisa, np.abs(ders_lisa_step_fid_distcorr[3]),label='tc')\n",
    "plt.loglog(farr_lisa, np.abs(ders_lisa_step_fid_distcorr[4]),label='psic')\n",
    "plt.loglog(farr_lisa, np.abs(ders_lisa_step_fid_distcorr[5]),label='c0')\n",
    "plt.xlabel('f')\n",
    "plt.ylabel('derivatives')\n",
    "plt.legend()"
   ]
  },
  {
   "cell_type": "code",
   "execution_count": null,
   "metadata": {},
   "outputs": [],
   "source": [
    "wf = utilities.waveform_delta(cT_type='step', width=w1).h_Delta_exact\n",
    "\n",
    "def to_der(par):\n",
    "    ppars = np.array(pars_step)\n",
    "    ppars[0] = par\n",
    "    return wf(farr_lisa, ppars, cosmo_params, dist_corr=True)\n",
    "\n",
    "dM = numerical_derivative(to_der, pars_step[0], 1e-1)"
   ]
  },
  {
   "cell_type": "code",
   "execution_count": null,
   "metadata": {},
   "outputs": [],
   "source": [
    "dM"
   ]
  },
  {
   "cell_type": "code",
   "execution_count": null,
   "metadata": {},
   "outputs": [],
   "source": [
    "np.array(ders_lisa_step_distcorr)[0]"
   ]
  },
  {
   "cell_type": "code",
   "execution_count": null,
   "metadata": {},
   "outputs": [],
   "source": [
    "( dM -np.array(ders_lisa_step_distcorr)[0] ) / dM"
   ]
  },
  {
   "cell_type": "code",
   "execution_count": null,
   "metadata": {},
   "outputs": [],
   "source": [
    "# Now fix tc to ms accuracy\n",
    "Fisher_matrix_lisa_step_fid = np.linalg.inv(cov_matrix_lisa_step_fid)\n",
    "Fisher_matrix_lisa_step_fid_fixtc = np.array(Fisher_matrix_lisa_step_fid)\n",
    "Fisher_matrix_lisa_step_fid_fixtc[3,3] = 1.e6\n",
    "cov_matrix_lisa_step_fid_fixtc = np.linalg.inv(Fisher_matrix_lisa_step_fid_fixtc)"
   ]
  },
  {
   "cell_type": "code",
   "execution_count": null,
   "metadata": {},
   "outputs": [],
   "source": [
    "# Now fix tc to ms accuracy\n",
    "Fisher_matrix_lisa_step = np.linalg.inv(cov_matrix_lisa_step)\n",
    "Fisher_matrix_lisa_step_fixtc = np.array(Fisher_matrix_lisa_step)\n",
    "Fisher_matrix_lisa_step_fixtc[3,3] = 1.e6\n",
    "cov_matrix_lisa_step_fixtc = np.linalg.inv(Fisher_matrix_lisa_step_fixtc)"
   ]
  },
  {
   "cell_type": "code",
   "execution_count": null,
   "metadata": {},
   "outputs": [],
   "source": [
    "# Same for uncorrected version\n",
    "Fisher_matrix_lisa_step_fid_distcorr = np.linalg.inv(cov_matrix_lisa_step_fid_distcorr)\n",
    "Fisher_matrix_lisa_step_fid_distcorr_fixtc = np.array(Fisher_matrix_lisa_step_fid_distcorr)\n",
    "Fisher_matrix_lisa_step_fid_distcorr_fixtc[3,3] = 1.e6\n",
    "cov_matrix_lisa_step_fid_distcorr_fixtc = np.linalg.inv(Fisher_matrix_lisa_step_fid_distcorr_fixtc)"
   ]
  },
  {
   "cell_type": "code",
   "execution_count": null,
   "metadata": {},
   "outputs": [],
   "source": [
    "label = [r'$\\Delta {\\cal M}_z/{\\cal M}_z$', r'$\\Delta \\eta/\\eta$', r'$\\Delta z/z$',r'$t_c$',r'$\\Psi_c$', 'c0']\n",
    "fid_vals = [0,0,0,0,0,1]\n",
    "fid_vals_MG = [0,0,0,0,0,c0]\n",
    "\n",
    "data = np.random.multivariate_normal(fid_vals, cov_matrix_lisa_step_fid, size=20000)\n",
    "data_fixtc = np.random.multivariate_normal(fid_vals, cov_matrix_lisa_step_fid_fixtc, size=20000)\n",
    "data_distcorr = np.random.multivariate_normal(fid_vals, cov_matrix_lisa_step_fid_distcorr, size=20000)\n",
    "data_distcorr_fixtc = np.random.multivariate_normal(fid_vals, cov_matrix_lisa_step_fid_distcorr_fixtc, size=20000)\n",
    "data_MG = np.random.multivariate_normal(fid_vals_MG, cov_matrix_lisa_step, size=20000)\n",
    "data_MG_fixtc = np.random.multivariate_normal(fid_vals_MG, cov_matrix_lisa_step_fixtc, size=20000)\n"
   ]
  },
  {
   "cell_type": "code",
   "execution_count": null,
   "metadata": {},
   "outputs": [],
   "source": [
    "cc = ChainConsumer()\n",
    "cc.add_chain(data_fixtc, bins=30, smooth=True, parameters=label,name='tc fixed');\n",
    "cc.add_chain(data, bins=30, smooth=True, parameters=label, name='tc free');\n",
    "cc.plotter.plot();\n"
   ]
  },
  {
   "cell_type": "code",
   "execution_count": null,
   "metadata": {},
   "outputs": [],
   "source": [
    "cc = ChainConsumer()\n",
    "cc.add_chain(data_MG_fixtc, bins=30, smooth=True, parameters=label,name='tc fixed');\n",
    "cc.add_chain(data_MG, bins=30, smooth=True, parameters=label, name='tc free');\n",
    "cc.plotter.plot();"
   ]
  },
  {
   "cell_type": "code",
   "execution_count": null,
   "metadata": {},
   "outputs": [],
   "source": [
    "cc = ChainConsumer()\n",
    "\n",
    "#cc.add_chain(data_fixtc, bins=30, smooth=True, parameters=label, name='tc fixed')\n",
    "cc.add_chain(data_distcorr_fixtc, bins=30, smooth=True, parameters=label,name='tc fixed distcorr',color='r');\n",
    "cc.plotter.plot();"
   ]
  },
  {
   "cell_type": "code",
   "execution_count": null,
   "metadata": {},
   "outputs": [],
   "source": [
    "Psi, Psi_old = utilities.Psi_Delta_exact(farr, fstar, c0, Ms, eta, zem, cosmo_params, tc, psic, cT_type='step', width=w1)"
   ]
  },
  {
   "cell_type": "code",
   "execution_count": null,
   "metadata": {},
   "outputs": [],
   "source": [
    "plt.semilogx(farr,abs(Psi/Psi_old))"
   ]
  },
  {
   "cell_type": "code",
   "execution_count": null,
   "metadata": {},
   "outputs": [],
   "source": [
    "cc.remove_chain('tc fixed')\n",
    "cc.remove_chain('tc fixed distcorr')"
   ]
  },
  {
   "cell_type": "code",
   "execution_count": null,
   "metadata": {},
   "outputs": [],
   "source": []
  }
 ],
 "metadata": {
  "kernelspec": {
   "display_name": "Python 3 (ipykernel)",
   "language": "python",
   "name": "python3"
  },
  "language_info": {
   "codemirror_mode": {
    "name": "ipython",
    "version": 3
   },
   "file_extension": ".py",
   "mimetype": "text/x-python",
   "name": "python",
   "nbconvert_exporter": "python",
   "pygments_lexer": "ipython3",
   "version": "3.8.10"
  }
 },
 "nbformat": 4,
 "nbformat_minor": 4
}
